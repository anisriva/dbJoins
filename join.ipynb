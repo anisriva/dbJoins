{
 "cells": [
  {
   "cell_type": "markdown",
   "metadata": {},
   "source": [
    "##### Step 1 : Import the DataSet class and the joiner method"
   ]
  },
  {
   "cell_type": "code",
   "execution_count": 28,
   "metadata": {},
   "outputs": [],
   "source": [
    "from core.join_operator import DataSet, joiner"
   ]
  },
  {
   "cell_type": "markdown",
   "metadata": {},
   "source": [
    "##### Step 2 : Prepare the data sets"
   ]
  },
  {
   "cell_type": "code",
   "execution_count": 29,
   "metadata": {},
   "outputs": [],
   "source": [
    "emp_header = [\"id\", \"name\", \"dept_id\", \"salary\"]\n",
    "\n",
    "emp_data = [\n",
    "            (1,\"Justin\", 101, 7000.00),\n",
    "            (2,\"Jacob\", 102, 3000.00),\n",
    "            (3,\"Jolly\", 103, 3800.00),\n",
    "            (4,\"Jatin\", 102, 4500.00),\n",
    "            (5,\"Jacky\", 101, 5000.00)\n",
    "            ]\n",
    "\n",
    "dept_header = [\"dept_id\", \"dept_name\"]\n",
    "\n",
    "dept_data = [\n",
    "            (101, \"Engineering\"),\n",
    "            (102, \"Data Science\"),\n",
    "            (103, \"IT Operations\")\n",
    "            ]\n",
    "\n",
    "emp_data_set = DataSet(emp_header, emp_data)\n",
    "\n",
    "dept_data_set = DataSet(dept_header, dept_data)"
   ]
  },
  {
   "cell_type": "markdown",
   "metadata": {},
   "source": [
    "##### Step 3 : Verify the datasets using count and show methods"
   ]
  },
  {
   "cell_type": "code",
   "execution_count": 30,
   "metadata": {},
   "outputs": [
    {
     "name": "stdout",
     "output_type": "stream",
     "text": [
      "Employees count : \n",
      "5\n",
      "Employees data : \n",
      "+ | id=1  || name='Justin' || dept_id=101     || salary=7000.0 | +\n",
      "+ | id=2  || name='Jacob' || dept_id=102     || salary=3000.0 | +\n",
      "+ | id=3  || name='Jolly' || dept_id=103     || salary=3800.0 | +\n",
      "+ | id=4  || name='Jatin' || dept_id=102     || salary=4500.0 | +\n",
      "+ | id=5  || name='Jacky' || dept_id=101     || salary=5000.0 | +\n",
      "\n",
      "Department count :\n",
      "3\n",
      "Department data :\n",
      "+ | dept_id=101     || dept_name='Engineering' | +\n",
      "+ | dept_id=102     || dept_name='Data Science' | +\n",
      "+ | dept_id=103     || dept_name='IT Operations' | +\n",
      "\n"
     ]
    }
   ],
   "source": [
    "print(\"Employees count : \")\n",
    "emp_data_set.count()\n",
    "\n",
    "print(\"Employees data : \")\n",
    "emp_data_set.show()\n",
    "\n",
    "print(\"Department count :\")\n",
    "dept_data_set.count()\n",
    "print(\"Department data :\")\n",
    "dept_data_set.show()"
   ]
  },
  {
   "cell_type": "markdown",
   "metadata": {},
   "source": [
    "##### Step 4 : Join the 2 datasets and check the outcome"
   ]
  },
  {
   "cell_type": "code",
   "execution_count": 31,
   "metadata": {},
   "outputs": [],
   "source": [
    "# joining the datasets using the joiner method\n",
    "joined_data_set = joiner(emp_data_set, dept_data_set, [\"dept_id\"])"
   ]
  },
  {
   "cell_type": "markdown",
   "metadata": {},
   "source": [
    "##### Step 5 : Check the result for the joiner"
   ]
  },
  {
   "cell_type": "code",
   "execution_count": 32,
   "metadata": {},
   "outputs": [
    {
     "name": "stdout",
     "output_type": "stream",
     "text": [
      "Joined data count : \n",
      "5\n",
      "Joined data : \n",
      "+ | id=1  || name='Justin' || dept_id=101     || salary=7000.0 || dept_id_=101      || dept_name_='Engineering' | +\n",
      "+ | id=5  || name='Jacky' || dept_id=101     || salary=5000.0 || dept_id_=101      || dept_name_='Engineering' | +\n",
      "+ | id=2  || name='Jacob' || dept_id=102     || salary=3000.0 || dept_id_=102      || dept_name_='Data Science' | +\n",
      "+ | id=4  || name='Jatin' || dept_id=102     || salary=4500.0 || dept_id_=102      || dept_name_='Data Science' | +\n",
      "+ | id=3  || name='Jolly' || dept_id=103     || salary=3800.0 || dept_id_=103      || dept_name_='IT Operations' | +\n",
      "\n"
     ]
    }
   ],
   "source": [
    "print(\"Joined data count : \")\n",
    "joined_data_set.count()\n",
    "\n",
    "print(\"Joined data : \")\n",
    "joined_data_set.show()"
   ]
  }
 ],
 "metadata": {
  "interpreter": {
   "hash": "63fd5069d213b44bf678585dea6b12cceca9941eaf7f819626cde1f2670de90d"
  },
  "kernelspec": {
   "display_name": "Python 3.9.8 64-bit",
   "language": "python",
   "name": "python3"
  },
  "language_info": {
   "codemirror_mode": {
    "name": "ipython",
    "version": 3
   },
   "file_extension": ".py",
   "mimetype": "text/x-python",
   "name": "python",
   "nbconvert_exporter": "python",
   "pygments_lexer": "ipython3",
   "version": "3.8.5"
  },
  "orig_nbformat": 4
 },
 "nbformat": 4,
 "nbformat_minor": 2
}
